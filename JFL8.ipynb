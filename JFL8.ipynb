{
  "nbformat": 4,
  "nbformat_minor": 0,
  "metadata": {
    "colab": {
      "name": "JFL8.ipynb",
      "provenance": []
    },
    "kernelspec": {
      "name": "python3",
      "display_name": "Python 3"
    },
    "language_info": {
      "name": "python"
    }
  },
  "cells": [
    {
      "cell_type": "markdown",
      "metadata": {
        "id": "1QqbWRcTtCly"
      },
      "source": [
        "Junaid Iqbal Khan\n",
        "**2021317105**"
      ]
    },
    {
      "cell_type": "code",
      "metadata": {
        "id": "odFHbOyWhNG_"
      },
      "source": [
        "import math\n",
        "import cv2\n",
        "import random \n",
        "import matplotlib.pyplot as plt\n",
        "import numpy as np\n",
        "import sklearn.datasets as dataset\n",
        "from sklearn import svm"
      ],
      "execution_count": null,
      "outputs": []
    },
    {
      "cell_type": "code",
      "metadata": {
        "id": "UzaGpmEch1YR"
      },
      "source": [
        "mnist = dataset.fetch_openml('mnist_784')\n",
        "mnist_data = mnist.data\n",
        "mnist_target = mnist.target"
      ],
      "execution_count": null,
      "outputs": []
    },
    {
      "cell_type": "code",
      "metadata": {
        "colab": {
          "base_uri": "https://localhost:8080/",
          "height": 146
        },
        "id": "1_grX39Xh9G2",
        "outputId": "d0952d90-f60f-49f6-f299-2ca03b0aa79c"
      },
      "source": [
        "\n",
        "fig = plt.figure(figsize=[10, 2])\n",
        "ax = []\n",
        "random_id = np.random.choice(mnist_data.shape[0],5)\n",
        "for i in range(5):  \n",
        "  ax.append(fig.add_subplot(1,5,i+1))\n",
        "  ax[i].imshow(mnist_data[random_id[i]].reshape(28,28),cmap=plt.get_cmap('gray'))\n",
        "\n",
        "plt.show()"
      ],
      "execution_count": null,
      "outputs": [
        {
          "output_type": "display_data",
          "data": {
            "image/png": "[encoded data removed]",
            "text/plain": [
              "<Figure size 720x144 with 5 Axes>"
            ]
          },
          "metadata": {
            "tags": [],
            "needs_background": "light"
          }
        }
      ]
    },
    {
      "cell_type": "code",
      "metadata": {
        "id": "HCDw6GREuidI"
      },
      "source": [
        "def randomizer(X,Y,extract):\n",
        "  samples = X.shape[0]\n",
        "  index = np.random.choice(samples,samples,replace=False) \n",
        "  X_rand = X[index]\n",
        "  Y_rand = Y[index]\n",
        "  X=X_rand[0:extract]\n",
        "  Y=Y_rand[0:extract]\n",
        "  return X,Y\n",
        "\n",
        "X,Y = randomizer(mnist_data,mnist_target,10000)"
      ],
      "execution_count": null,
      "outputs": []
    },
    {
      "cell_type": "code",
      "metadata": {
        "colab": {
          "base_uri": "https://localhost:8080/"
        },
        "id": "-z0g_MSVWLXq",
        "outputId": "c5b0d3c0-76cd-4607-9e6f-069b5facd002"
      },
      "source": [
        "print(\"Original Data Sample Size: \");\n",
        "print(mnist_data.shape[0])\n",
        "print(\"Extracted Data Sample Size: \");\n",
        "print(X.shape[0])"
      ],
      "execution_count": null,
      "outputs": [
        {
          "output_type": "stream",
          "text": [
            "Original Data Sample Size: \n",
            "70000\n",
            "Extracted Data Sample Size: \n",
            "10000\n"
          ],
          "name": "stdout"
        }
      ]
    },
    {
      "cell_type": "code",
      "metadata": {
        "id": "p4XdI5RPzbDc"
      },
      "source": [
        "def splitter(X,Y,splitting_ratio):\n",
        "  num_data = int(X.shape[0]*(1-splitting_ratio))\n",
        "  x_train = X[:num_data]\n",
        "  x_test = X[num_data:]\n",
        "  y_train = Y[:num_data]\n",
        "  y_test = Y[num_data:]\n",
        "  return x_train,x_test,y_train,y_test\n",
        "\n",
        "\n",
        "X_train,X_test,Y_train,Y_test=splitter(X,Y,0.3)"
      ],
      "execution_count": null,
      "outputs": []
    },
    {
      "cell_type": "code",
      "metadata": {
        "colab": {
          "base_uri": "https://localhost:8080/"
        },
        "id": "SPHqzPyhV1UF",
        "outputId": "cba04725-e0cc-4418-b54b-f9ca8bdd37dd"
      },
      "source": [
        "print(\"Training Data Sample Size: \");\n",
        "print(X_train.shape[0])\n",
        "print(\"Testing Data Sample Size: \");\n",
        "print(X_test.shape[0])"
      ],
      "execution_count": null,
      "outputs": [
        {
          "output_type": "stream",
          "text": [
            "Training Data Sample Size: \n",
            "7000\n",
            "Testing Data Sample Size: \n",
            "3000\n"
          ],
          "name": "stdout"
        }
      ]
    },
    {
      "cell_type": "code",
      "metadata": {
        "id": "08ePfHBX9Gh3"
      },
      "source": [
        "## For binary classification, we adopt to either some sample represents '1' or not\n",
        "def binarizer(Y_train,Y_test):\n",
        "  Y_train_new=np.zeros(Y_train.shape[0])\n",
        "  Y_test_new=np.zeros(Y_test.shape[0])\n",
        "\n",
        "  for i in range(Y_train.shape[0]):\n",
        "    if (Y_train[i]=='1'):\n",
        "      Y_train_new[i]=1\n",
        "    else:\n",
        "      Y_train_new[i]=0\n",
        "\n",
        "\n",
        "  for i in range(Y_test.shape[0]):\n",
        "    if (Y_test[i]=='1'):\n",
        "      Y_test_new[i]=1\n",
        "    else:\n",
        "      Y_test_new[i]=0\n",
        "\n",
        "  return Y_train_new,Y_test_new\n",
        "\n",
        "Y_train_new,Y_test_new=binarizer(Y_train,Y_test)\n"
      ],
      "execution_count": null,
      "outputs": []
    },
    {
      "cell_type": "code",
      "metadata": {
        "colab": {
          "base_uri": "https://localhost:8080/"
        },
        "id": "uALQgbCg1BQG",
        "outputId": "abd9b4d9-58da-4320-af2c-78d40b4326e1"
      },
      "source": [
        "model= svm.SVC()\n",
        "train_accuracy=model.fit(X_train, Y_train_new).score(X_train, Y_train_new)\n",
        "print(\"Training accuracy: \")\n",
        "print(train_accuracy)"
      ],
      "execution_count": null,
      "outputs": [
        {
          "output_type": "stream",
          "text": [
            "Training accuracy: \n",
            "0.998\n"
          ],
          "name": "stdout"
        }
      ]
    },
    {
      "cell_type": "code",
      "metadata": {
        "colab": {
          "base_uri": "https://localhost:8080/"
        },
        "id": "Mul-Lcmn2lf_",
        "outputId": "7f112434-4be6-41ab-8071-87f436f0bcdc"
      },
      "source": [
        "Y_pred=model.predict(X_test)\n",
        "\n",
        "\n",
        "def accuracer(Y_test,Y_pred):\n",
        "  sum=0\n",
        "  for i in range(Y_test.shape[0]):\n",
        "    # instead of using indicator function, an analytical form is used which would give roughly same result\n",
        "    sum=sum+np.exp(-1*(Y_test[i].astype(np.float32)-Y_pred[i])**2)\n",
        "\n",
        "  acc=sum/Y_test.shape[0]\n",
        "  return acc\n",
        "\n",
        "print(\"Testing Accuracy: \");\n",
        "print(accuracer(Y_test_new,Y_pred))\n"
      ],
      "execution_count": null,
      "outputs": [
        {
          "output_type": "stream",
          "text": [
            "Testing Accuracy: \n",
            "0.9962072766470281\n"
          ],
          "name": "stdout"
        }
      ]
    },
    {
      "cell_type": "code",
      "metadata": {
        "colab": {
          "base_uri": "https://localhost:8080/",
          "height": 282
        },
        "id": "RMvotsK1CM2c",
        "outputId": "03f74d8e-f33d-482e-a3d8-b66d528cc525"
      },
      "source": [
        "#cross validating in context of whether a digit is '1' or not\n",
        "def Kfoldcrossvalidator(data,target,k=4):\n",
        "  X,Y_old=randomizer(data,target,10000)\n",
        "  Y=np.zeros(Y_old.shape[0])\n",
        "\n",
        "  for i in range(Y_old.shape[0]):\n",
        "    if (Y_old[i]=='1'):\n",
        "      Y[i]=1\n",
        "    else:\n",
        "      Y[i]=0\n",
        "\n",
        "  \n",
        "  train_acc=[]\n",
        "  test_acc=[]\n",
        "  for i in range(k):\n",
        "    cut = int(X.shape[0]/k)\n",
        "    x_test = X[i*cut:cut*(i+1)]\n",
        "    y_test = Y[i*cut:cut*(i+1)]\n",
        "    x_train = np.delete(X,np.arange(i*cut,cut*(i+1),1),axis=0)\n",
        "    y_train = np.delete(Y,np.arange(i*cut,cut*(i+1),1),axis=0)\n",
        "\n",
        "    model= svm.SVC()\n",
        "    train_acc.append(model.fit(x_train, y_train).score(x_train, y_train))\n",
        "\n",
        "    y_pred=model.predict(x_test)\n",
        "    test_acc.append(accuracer(y_test,y_pred))\n",
        "\n",
        "  return train_acc,test_acc\n",
        "\n",
        "\n",
        "k=4\n",
        "train_accuracy,test_accuracy=Kfoldcrossvalidator(mnist_data,mnist_target,k)\n",
        "K= list(range(1,k+1))\n",
        "plt.plot(K,train_accuracy, label=\"Training Accuracy\")\n",
        "plt.plot(K,test_accuracy,label=\"Testing Accuracy\")\n",
        "plt.legend(loc=\"upper left\")\n",
        "plt.xlabel('Folds')\n",
        "plt.ylabel('Accuracy')\n",
        "plt.show()"
      ],
      "execution_count": null,
      "outputs": [
        {
          "output_type": "display_data",
          "data": {
            "image/png": "[encoded data removed]",
            "text/plain": [
              "<Figure size 432x288 with 1 Axes>"
            ]
          },
          "metadata": {
            "tags": [],
            "needs_background": "light"
          }
        }
      ]
    }
  ]
}