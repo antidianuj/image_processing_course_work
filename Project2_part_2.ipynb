{
  "nbformat": 4,
  "nbformat_minor": 0,
  "metadata": {
    "colab": {
      "name": "Project2_part_2.ipynb",
      "provenance": [],
      "collapsed_sections": []
    },
    "kernelspec": {
      "name": "python3",
      "display_name": "Python 3"
    },
    "language_info": {
      "name": "python"
    }
  },
  "cells": [
    {
      "cell_type": "code",
      "metadata": {
        "colab": {
          "base_uri": "https://localhost:8080/"
        },
        "id": "kqrXLkETqXR3",
        "outputId": "af11f6e4-4143-4749-e6d8-b2fcf630da24"
      },
      "source": [
        "from google.colab import drive\n",
        "drive.mount('/content/drive',force_remount=True)"
      ],
      "execution_count": null,
      "outputs": [
        {
          "output_type": "stream",
          "text": [
            "Mounted at /content/drive\n"
          ],
          "name": "stdout"
        }
      ]
    },
    {
      "cell_type": "code",
      "metadata": {
        "id": "XF9Z0jmIsWvG"
      },
      "source": [
        "import math\n",
        "import cv2\n",
        "import random \n",
        "import matplotlib.pyplot as plt\n",
        "import numpy as np\n",
        "import sklearn.datasets as dataset\n",
        "from sklearn import svm\n",
        "from numpy import linalg as LA"
      ],
      "execution_count": null,
      "outputs": []
    },
    {
      "cell_type": "code",
      "metadata": {
        "id": "aSR4qnN_sXZD"
      },
      "source": [
        "mnist = dataset.fetch_openml('mnist_784')\n",
        "mnist_data = mnist.data\n",
        "mnist_target = mnist.target"
      ],
      "execution_count": null,
      "outputs": []
    },
    {
      "cell_type": "code",
      "metadata": {
        "colab": {
          "base_uri": "https://localhost:8080/",
          "height": 146
        },
        "id": "jF_DxqmPsZB-",
        "outputId": "98b61cf3-b27a-439e-aca7-2afa8323a38f"
      },
      "source": [
        "fig = plt.figure(figsize=[10, 2])\n",
        "ax = []\n",
        "random_id = np.random.choice(mnist_data.shape[0],5)\n",
        "for i in range(5):  \n",
        "  ax.append(fig.add_subplot(1,5,i+1))\n",
        "  ax[i].imshow(mnist_data[random_id[i]].reshape(28,28),cmap=plt.get_cmap('gray'))\n",
        "\n",
        "plt.show()"
      ],
      "execution_count": null,
      "outputs": [
        {
          "output_type": "display_data",
          "data": {
            "image/png": "[encoded data removed]",
            "text/plain": [
              "<Figure size 720x144 with 5 Axes>"
            ]
          },
          "metadata": {
            "tags": [],
            "needs_background": "light"
          }
        }
      ]
    },
    {
      "cell_type": "code",
      "metadata": {
        "id": "cWLsH4xKsbLT"
      },
      "source": [
        "def randomizer(X,Y,extract):\n",
        "  samples = X.shape[0]\n",
        "  index = np.random.choice(samples,samples,replace=False) \n",
        "  X_rand = X[index]\n",
        "  Y_rand = Y[index]\n",
        "  X=X_rand[0:extract]\n",
        "  Y=Y_rand[0:extract]\n",
        "  return X,Y\n",
        "\n",
        "X,Y = randomizer(mnist_data,mnist_target,10000)\n"
      ],
      "execution_count": null,
      "outputs": []
    },
    {
      "cell_type": "code",
      "metadata": {
        "id": "5I5YW5HqswKe"
      },
      "source": [
        "def KMeanizer(Data,k,iterations=2):\n",
        "  a,b=Data.shape\n",
        "  Centeroid_dum = []\n",
        "\n",
        "  for iter in range(iterations):\n",
        "    if (iter==0):\n",
        "      for i in range(k):\n",
        "        centeroid = np.random.uniform(low=0, high=13, size=(b,))\n",
        "        Centeroid_dum.append(centeroid)\n",
        "\n",
        "\n",
        "    C_dum = [[] for i in range(k)]\n",
        "    dis_dum=np.zeros(k)\n",
        "    \n",
        "\n",
        "    for ith in range(a):\n",
        "      for k_i in range(k):\n",
        "        dis_dum[k_i]=LA.norm(Data[ith,:]-Centeroid_dum[k_i])\n",
        "        C_dum[np.argmin(dis_dum)].append(Data[ith,:])\n",
        "\n",
        "\n",
        "    for i in range(k):\n",
        "      C_r=sum(C_dum[i])/(len(C_dum[i])+0.0001)\n",
        "      Centeroid_dum[i]=C_r\n",
        "\n",
        "  return Centeroid_dum"
      ],
      "execution_count": null,
      "outputs": []
    },
    {
      "cell_type": "code",
      "metadata": {
        "colab": {
          "base_uri": "https://localhost:8080/"
        },
        "id": "zmWMO3r9MGEe",
        "outputId": "adb71d79-9c37-471c-e8a3-06db75541707"
      },
      "source": [
        "X.shape"
      ],
      "execution_count": null,
      "outputs": [
        {
          "output_type": "execute_result",
          "data": {
            "text/plain": [
              "(10000, 784)"
            ]
          },
          "metadata": {
            "tags": []
          },
          "execution_count": 62
        }
      ]
    },
    {
      "cell_type": "code",
      "metadata": {
        "id": "56LLb2SFDY2p"
      },
      "source": [
        "# 2 iterations\n",
        "k=10\n",
        "Centroids= KMeanizer(X,k,iterations=2)\n",
        "y_label=np.zeros(X.shape[0])\n",
        "\n",
        "dis_dum=np.zeros(k)\n",
        "for i in range(X.shape[0]):\n",
        "  for kth in range(k):\n",
        "    dis_dum[kth]=LA.norm(X[i,:]-Centroids[kth])\n",
        "  y_label[i]=np.argmin(dis_dum)  \n"
      ],
      "execution_count": null,
      "outputs": []
    },
    {
      "cell_type": "code",
      "metadata": {
        "colab": {
          "base_uri": "https://localhost:8080/",
          "height": 111
        },
        "id": "8R2gsOPfVoYT",
        "outputId": "6a322d76-2678-4e85-e868-625af455bdef"
      },
      "source": [
        "fig = plt.figure(figsize=[10, 2])\n",
        "ax = []\n",
        "for i in range(10):  \n",
        "  ax.append(fig.add_subplot(1,10,i+1))\n",
        "  ax[i].imshow(X[i,:].reshape(28,28),cmap=plt.get_cmap('gray'))\n",
        "  ax[i].title.set_text(y_label[i])\n",
        "\n",
        "plt.show()"
      ],
      "execution_count": null,
      "outputs": [
        {
          "output_type": "display_data",
          "data": {
            "image/png": "[encoded data removed]",
            "text/plain": [
              "<Figure size 720x144 with 10 Axes>"
            ]
          },
          "metadata": {
            "tags": [],
            "needs_background": "light"
          }
        }
      ]
    },
    {
      "cell_type": "code",
      "metadata": {
        "colab": {
          "base_uri": "https://localhost:8080/"
        },
        "id": "RwN-Pjt-ZEuy",
        "outputId": "121d5073-832a-4898-b611-f8b532af4577"
      },
      "source": [
        "# Documentation of acccuracy\n",
        "\n",
        "#scoring criteria:\n",
        "# if two same labeled figures get different cluster labels, then error_1=1, else, error_1=0\n",
        "# if two different labeled figures get different cluster labels, then error_2=0, else, error_2=1\n",
        "# total error percentage would be (sum of normalized error_1 and error_2) \n",
        "# Accuracy would be compliment of total error\n",
        "\n",
        "\n",
        "error_1=[]\n",
        "error_2=[]\n",
        "for i in range(X.shape[0]):\n",
        "  for j in range(10):\n",
        "    if (i!=j):\n",
        "      if (Y[i]!=Y[j]):\n",
        "        if (y_label[i]!=y_label[j]):\n",
        "          error_2.append(0)\n",
        "        else:\n",
        "          error_2.append(1)\n",
        "      elif (Y[i]==Y[j]):\n",
        "        if (y_label[i]==y_label[j]):\n",
        "          error_1.append(0)\n",
        "        else:\n",
        "          error_1.append(1)\n",
        "\n",
        "\n",
        "total_error=(sum(error_1)/len(error_1)+sum(error_2)/len(error_2))\n",
        "\n",
        "\n",
        "print(\"K_means accuracy:\")\n",
        "print(1-total_error)\n",
        "\n"
      ],
      "execution_count": null,
      "outputs": [
        {
          "output_type": "stream",
          "text": [
            "K_means accuracy:\n",
            "0.35391420466052126\n"
          ],
          "name": "stdout"
        }
      ]
    },
    {
      "cell_type": "code",
      "metadata": {
        "id": "3CV_egJGW9q2"
      },
      "source": [
        "# 20 iterations\n",
        "k=10\n",
        "Centroids= KMeanizer(X,k,iterations=20)\n",
        "y_label=np.zeros(X.shape[0])\n",
        "\n",
        "dis_dum=np.zeros(k)\n",
        "for i in range(X.shape[0]):\n",
        "  for kth in range(k):\n",
        "    dis_dum[kth]=LA.norm(X[i,:]-Centroids[kth])\n",
        "  y_label[i]=np.argmin(dis_dum) "
      ],
      "execution_count": null,
      "outputs": []
    },
    {
      "cell_type": "code",
      "metadata": {
        "colab": {
          "base_uri": "https://localhost:8080/",
          "height": 111
        },
        "id": "XGX_qq0yW-T7",
        "outputId": "379a2b07-776e-4b65-b111-1c037be2eda6"
      },
      "source": [
        "fig = plt.figure(figsize=[10, 2])\n",
        "ax = []\n",
        "for i in range(10):  \n",
        "  ax.append(fig.add_subplot(1,10,i+1))\n",
        "  ax[i].imshow(X[i,:].reshape(28,28),cmap=plt.get_cmap('gray'))\n",
        "  ax[i].title.set_text(y_label[i])\n",
        "\n",
        "plt.show()"
      ],
      "execution_count": null,
      "outputs": [
        {
          "output_type": "display_data",
          "data": {
            "image/png": "[encoded data removed]",
            "text/plain": [
              "<Figure size 720x144 with 10 Axes>"
            ]
          },
          "metadata": {
            "tags": [],
            "needs_background": "light"
          }
        }
      ]
    },
    {
      "cell_type": "code",
      "metadata": {
        "colab": {
          "base_uri": "https://localhost:8080/"
        },
        "id": "FoD-vY1EdBV6",
        "outputId": "d328fe96-ad16-4989-aaae-70b2679f3bcc"
      },
      "source": [
        "# Documentation of acccuracy\n",
        "\n",
        "#scoring criteria:\n",
        "# if two same labeled figures get different cluster labels, then error_1=1, else, error_1=0\n",
        "# if two different labeled figures get different cluster labels, then error_2=0, else, error_2=1\n",
        "# total error percentage would be (sum of normalized error_1 and error_2) \n",
        "# Accuracy would be compliment of total error\n",
        "\n",
        "\n",
        "error_1=[]\n",
        "error_2=[]\n",
        "for i in range(X.shape[0]):\n",
        "  for j in range(10):\n",
        "    if (i!=j):\n",
        "      if (Y[i]!=Y[j]):\n",
        "        if (y_label[i]!=y_label[j]):\n",
        "          error_2.append(0)\n",
        "        else:\n",
        "          error_2.append(1)\n",
        "      elif (Y[i]==Y[j]):\n",
        "        if (y_label[i]==y_label[j]):\n",
        "          error_1.append(0)\n",
        "        else:\n",
        "          error_1.append(1)\n",
        "\n",
        "\n",
        "total_error=(sum(error_1)/len(error_1)+sum(error_2)/len(error_2))\n",
        "\n",
        "\n",
        "print(\"K_means accuracy:\")\n",
        "print(1-total_error)\n"
      ],
      "execution_count": null,
      "outputs": [
        {
          "output_type": "stream",
          "text": [
            "K_means accuracy:\n",
            "0.36393195302465564\n"
          ],
          "name": "stdout"
        }
      ]
    },
    {
      "cell_type": "markdown",
      "metadata": {
        "id": "ltRAnA2yNtLQ"
      },
      "source": [
        "Histogram of Orientations based Feature Reduction"
      ]
    },
    {
      "cell_type": "code",
      "metadata": {
        "id": "AYlpfM4wwLIC"
      },
      "source": [
        "a,b=X.shape\n",
        "X_featured=np.zeros((a,8*4))"
      ],
      "execution_count": null,
      "outputs": []
    },
    {
      "cell_type": "code",
      "metadata": {
        "id": "xtzAZbCLNsy3"
      },
      "source": [
        "def gauss_kernel(size, sigma):\n",
        "    size = int(size) // 2\n",
        "    x, y = np.mgrid[-size:size+1, -size:size+1]\n",
        "    normal = 1 / (2.0 * np.pi * sigma**2)\n",
        "    gnormal =  np.exp(-((x**2 + y**2) / (2.0*sigma**2))) * normal\n",
        "    return gnormal\n",
        "\n",
        "\n",
        "# Defining a filter\n",
        "\n",
        "def filter(image, kernel):\n",
        "\n",
        "    # Convolution with vertical mask\n",
        "    kernel = np.flipud(np.fliplr(kernel))\n",
        "\n",
        "    x_K = kernel.shape[0] \n",
        "    y_K = kernel.shape[1] \n",
        "    x_I = image.shape[0] \n",
        "    y_I = image.shape[1]\n",
        "    x_O = int(x_I -x_K  + 1)\n",
        "    y_O = int(y_I -y_K + 1)\n",
        "    output = np.zeros((x_O, y_O))\n",
        "    for i in range(y_O):\n",
        "        for j in range(x_O):\n",
        "            output[j][i] = (kernel * image[j: j + x_K, i: i + y_K]).sum()\n",
        "    return output\n"
      ],
      "execution_count": null,
      "outputs": []
    },
    {
      "cell_type": "code",
      "metadata": {
        "id": "r1s5JZ_TQSHt"
      },
      "source": [
        "division=4\n",
        "for i in range(X_featured.shape[0]):\n",
        "  image=X[i,:].reshape((28, 28))\n",
        "\n",
        "\n",
        "  # Defining vertical Sobel Mask\n",
        "  kernel_vert = np.array([[-1, 0, 1], [-2, 0, 2], [-1, 0, 1]], np.float32)\n",
        "\n",
        "  #Defining horizonatal Sobel Mask\n",
        "  kernel_horz = np.array([[1, 2, 1], [0, 0, 0], [-1, -2, -1]], np.float32)\n",
        "\n",
        "\n",
        "  # Applying vertical Sobel Mask\n",
        "  kernel=kernel_vert\n",
        "  new_image_sobel_y=filter(image,kernel)\n",
        "\n",
        "\n",
        "  # Applying vertical Sobel Mask\n",
        "  kernel=kernel_horz\n",
        "  new_image_sobel_x=filter(image,kernel)\n",
        "\n",
        "  # Gradiant Map\n",
        "  gradient_mag = np.sqrt(np.square(new_image_sobel_x) + np.square(new_image_sobel_y))\n",
        "  gradient_mag *= 255.0 / gradient_mag.max()\n",
        "\n",
        "  # Angle Map\n",
        "  angler=np.arctan2(new_image_sobel_y, new_image_sobel_x)\n",
        "  angler[:,:] += np.pi\n",
        "\n",
        "  Im_A=[]\n",
        "  Im_M=[]\n",
        "\n",
        "  Im_A.append(angler[0:14,0:14])\n",
        "  Im_A.append(angler[0:14,12:28])\n",
        "  Im_A.append(angler[12:28,0:14])\n",
        "  Im_A.append(angler[12:28,12:28])\n",
        "\n",
        "  Im_M.append(gradient_mag[0:14,0:14])\n",
        "  Im_M.append(gradient_mag[0:14,12:28])\n",
        "  Im_M.append(gradient_mag[12:28,0:14])\n",
        "  Im_M.append(gradient_mag[12:28,12:28])\n",
        "\n",
        "  \n",
        "  feature=np.zeros(8*4)\n",
        "  for div in range(4):\n",
        "    bins=np.zeros(8)\n",
        "    M=Im_M[div]\n",
        "    A=Im_A[div]\n",
        "    a,b=M.shape\n",
        "\n",
        "    for x in range(a):\n",
        "      for y in range(b):\n",
        "\n",
        "        if 0<=A[x,y]<2*np.pi/8:\n",
        "          bins[0]+=M[x,y]\n",
        "\n",
        "        elif 2*np.pi/8<=A[x,y]<2*2*np.pi/8:\n",
        "          bins[1]+=M[x,y]\n",
        "\n",
        "        elif 2*2*np.pi/8<=A[x,y]<2*3*np.pi/8:\n",
        "          bins[2]+=M[x,y]\n",
        "\n",
        "        elif 2*3*np.pi/8<=A[x,y]<2*3*np.pi/8:\n",
        "          bins[3]+=M[x,y]\n",
        "\n",
        "        elif 2*4*np.pi/8<=A[x,y]<2*5*np.pi/8:\n",
        "          bins[4]+=M[x,y]\n",
        "\n",
        "        elif 2*5*np.pi/8<=A[x,y]<2*6*np.pi/8:\n",
        "          bins[5]+=M[x,y]\n",
        "\n",
        "        elif 2*6*np.pi/8<=A[x,y]<2*7*np.pi/8:\n",
        "          bins[6]+=M[x,y]\n",
        "\n",
        "        elif 2*7*np.pi/8<=A[x,y]<2*8*np.pi/8:\n",
        "          bins[7]+=M[x,y]\n",
        "\n",
        "    feature[div*8:(div+1)*8]=bins\n",
        "\n",
        "  X_featured[i,:]=feature\n",
        "        \n"
      ],
      "execution_count": null,
      "outputs": []
    },
    {
      "cell_type": "code",
      "metadata": {
        "id": "hyuRH1ffrwb-"
      },
      "source": [
        "# 2 iterations\n",
        "k=10\n",
        "Centroids_F= KMeanizer(X_featured,k,iterations=2)\n",
        "\n",
        "y_label_F=np.zeros(X.shape[0])\n",
        "\n",
        "dis_dum=np.zeros(k)\n",
        "for i in range(X.shape[0]):\n",
        "  for kth in range(k):\n",
        "    dis_dum[kth]=LA.norm(X_featured[i,:]-Centroids_F[kth])\n",
        "  y_label_F[i]=np.argmin(dis_dum)  "
      ],
      "execution_count": null,
      "outputs": []
    },
    {
      "cell_type": "code",
      "metadata": {
        "colab": {
          "base_uri": "https://localhost:8080/",
          "height": 111
        },
        "id": "GSHMRAESX3Tq",
        "outputId": "5ca124a9-14fb-4695-8a15-9d68b09e2fb7"
      },
      "source": [
        "fig = plt.figure(figsize=[10, 2])\n",
        "ax = []\n",
        "for i in range(10):  \n",
        "  ax.append(fig.add_subplot(1,10,i+1))\n",
        "  ax[i].imshow(X[i,:].reshape(28,28),cmap=plt.get_cmap('gray'))\n",
        "  ax[i].title.set_text(y_label_F[i])\n",
        "\n",
        "plt.show()"
      ],
      "execution_count": null,
      "outputs": [
        {
          "output_type": "display_data",
          "data": {
            "image/png": "[encoded data removed]",
            "text/plain": [
              "<Figure size 720x144 with 10 Axes>"
            ]
          },
          "metadata": {
            "tags": [],
            "needs_background": "light"
          }
        }
      ]
    },
    {
      "cell_type": "code",
      "metadata": {
        "colab": {
          "base_uri": "https://localhost:8080/"
        },
        "id": "m__TnXPadRK0",
        "outputId": "18ebaae9-0661-48ad-9b54-2b5a1dca7ad8"
      },
      "source": [
        "# Documentation of acccuracy\n",
        "\n",
        "#scoring criteria:\n",
        "# if two same labeled figures get different cluster labels, then error_1=1, else, error_1=0\n",
        "# if two different labeled figures get different cluster labels, then error_2=0, else, error_2=1\n",
        "# total error percentage would be (sum of normalized error_1 and error_2) \n",
        "# Accuracy would be compliment of total error\n",
        "\n",
        "\n",
        "error_1=[]\n",
        "error_2=[]\n",
        "for i in range(X.shape[0]):\n",
        "  for j in range(10):\n",
        "    if (i!=j):\n",
        "      if (Y[i]!=Y[j]):\n",
        "        if (y_label_F[i]!=y_label_F[j]):\n",
        "          error_2.append(0)\n",
        "        else:\n",
        "          error_2.append(1)\n",
        "      elif (Y[i]==Y[j]):\n",
        "        if (y_label_F[i]==y_label_F[j]):\n",
        "          error_1.append(0)\n",
        "        else:\n",
        "          error_1.append(1)\n",
        "\n",
        "\n",
        "total_error=(sum(error_1)/len(error_1)+sum(error_2)/len(error_2))\n",
        "\n",
        "\n",
        "print(\"K_means accuracy:\")\n",
        "print(1-total_error)\n"
      ],
      "execution_count": null,
      "outputs": [
        {
          "output_type": "stream",
          "text": [
            "K_means accuracy:\n",
            "0.2681659784625343\n"
          ],
          "name": "stdout"
        }
      ]
    },
    {
      "cell_type": "code",
      "metadata": {
        "id": "SIRxZm4aYokA"
      },
      "source": [
        "# 20 iterations\n",
        "k=10\n",
        "Centroids_F= KMeanizer(X_featured,k,iterations=20)\n",
        "\n",
        "y_label_F=np.zeros(X.shape[0])\n",
        "\n",
        "dis_dum=np.zeros(k)\n",
        "for i in range(X.shape[0]):\n",
        "  for kth in range(k):\n",
        "    dis_dum[kth]=LA.norm(X_featured[i,:]-Centroids_F[kth])\n",
        "  y_label_F[i]=np.argmin(dis_dum)  "
      ],
      "execution_count": null,
      "outputs": []
    },
    {
      "cell_type": "code",
      "metadata": {
        "colab": {
          "base_uri": "https://localhost:8080/",
          "height": 111
        },
        "id": "Fddm2BQYYthf",
        "outputId": "7fbb2f41-515f-4a45-8386-a501b114537f"
      },
      "source": [
        "fig = plt.figure(figsize=[10, 2])\n",
        "ax = []\n",
        "for i in range(10):  \n",
        "  ax.append(fig.add_subplot(1,10,i+1))\n",
        "  ax[i].imshow(X[i,:].reshape(28,28),cmap=plt.get_cmap('gray'))\n",
        "  ax[i].title.set_text(y_label_F[i])\n",
        "\n",
        "plt.show()"
      ],
      "execution_count": null,
      "outputs": [
        {
          "output_type": "display_data",
          "data": {
            "image/png": "[encoded data removed]",
            "text/plain": [
              "<Figure size 720x144 with 10 Axes>"
            ]
          },
          "metadata": {
            "tags": [],
            "needs_background": "light"
          }
        }
      ]
    },
    {
      "cell_type": "code",
      "metadata": {
        "colab": {
          "base_uri": "https://localhost:8080/"
        },
        "id": "mktq3AcRd6xI",
        "outputId": "20f4f38a-f7b4-40da-80be-fdc667472ae6"
      },
      "source": [
        "# Documentation of acccuracy\n",
        "\n",
        "#scoring criteria:\n",
        "# if two same labeled figures get different cluster labels, then error_1=1, else, error_1=0\n",
        "# if two different labeled figures get different cluster labels, then error_2=0, else, error_2=1\n",
        "# total error percentage would be (sum of normalized error_1 and error_2) \n",
        "# Accuracy would be compliment of total error\n",
        "\n",
        "\n",
        "error_1=[]\n",
        "error_2=[]\n",
        "for i in range(X.shape[0]):\n",
        "  for j in range(10):\n",
        "    if (i!=j):\n",
        "      if (Y[i]!=Y[j]):\n",
        "        if (y_label_F[i]!=y_label_F[j]):\n",
        "          error_2.append(0)\n",
        "        else:\n",
        "          error_2.append(1)\n",
        "      elif (Y[i]==Y[j]):\n",
        "        if (y_label_F[i]==y_label_F[j]):\n",
        "          error_1.append(0)\n",
        "        else:\n",
        "          error_1.append(1)\n",
        "\n",
        "\n",
        "total_error=(sum(error_1)/len(error_1)+sum(error_2)/len(error_2))\n",
        "\n",
        "\n",
        "print(\"K_means accuracy:\")\n",
        "print(1-total_error)"
      ],
      "execution_count": null,
      "outputs": [
        {
          "output_type": "stream",
          "text": [
            "K_means accuracy:\n",
            "0.47301434733487124\n"
          ],
          "name": "stdout"
        }
      ]
    },
    {
      "cell_type": "markdown",
      "metadata": {
        "id": "LcF1r3J0enEb"
      },
      "source": [
        "What if I also gaussian filter the images before the orientation histogram determination?"
      ]
    },
    {
      "cell_type": "code",
      "metadata": {
        "id": "cIun21eeejaM"
      },
      "source": [
        "division=4\n",
        "a,b=X.shape\n",
        "X_featured=np.zeros((a,8*4))\n",
        "\n",
        "\n",
        "\n",
        "\n",
        "for i in range(X_featured.shape[0]):\n",
        "  imageg=X[i,:].reshape((28, 28))\n",
        "\n",
        "\n",
        "  # # Denoising of image using Gaussian blur\n",
        "  kernel=gauss_kernel(3,1);\n",
        "  image=filter(imageg,kernel)\n",
        "\n",
        "  # Defining vertical Sobel Mask\n",
        "  kernel_vert = np.array([[-1, 0, 1], [-2, 0, 2], [-1, 0, 1]], np.float32)\n",
        "\n",
        "  #Defining horizonatal Sobel Mask\n",
        "  kernel_horz = np.array([[1, 2, 1], [0, 0, 0], [-1, -2, -1]], np.float32)\n",
        "\n",
        "\n",
        "  # Applying vertical Sobel Mask\n",
        "  kernel=kernel_vert\n",
        "  new_image_sobel_y=filter(image,kernel)\n",
        "\n",
        "\n",
        "  # Applying vertical Sobel Mask\n",
        "  kernel=kernel_horz\n",
        "  new_image_sobel_x=filter(image,kernel)\n",
        "\n",
        "  # Gradiant Map\n",
        "  gradient_mag = np.sqrt(np.square(new_image_sobel_x) + np.square(new_image_sobel_y))\n",
        "  gradient_mag *= 255.0 / gradient_mag.max()\n",
        "\n",
        "  # Angle Map\n",
        "  angler=np.arctan2(new_image_sobel_y, new_image_sobel_x)\n",
        "  angler[:,:] += np.pi\n",
        "\n",
        "  Im_A=[]\n",
        "  Im_M=[]\n",
        "\n",
        "  Im_A.append(angler[0:14,0:14])\n",
        "  Im_A.append(angler[0:14,12:28])\n",
        "  Im_A.append(angler[12:28,0:14])\n",
        "  Im_A.append(angler[12:28,12:28])\n",
        "\n",
        "  Im_M.append(gradient_mag[0:14,0:14])\n",
        "  Im_M.append(gradient_mag[0:14,12:28])\n",
        "  Im_M.append(gradient_mag[12:28,0:14])\n",
        "  Im_M.append(gradient_mag[12:28,12:28])\n",
        "\n",
        "  \n",
        "  feature=np.zeros(8*4)\n",
        "  for div in range(4):\n",
        "    bins=np.zeros(8)\n",
        "    M=Im_M[div]\n",
        "    A=Im_A[div]\n",
        "    a,b=M.shape\n",
        "\n",
        "    for x in range(a):\n",
        "      for y in range(b):\n",
        "\n",
        "        if 0<=A[x,y]<2*np.pi/8:\n",
        "          bins[0]+=M[x,y]\n",
        "\n",
        "        elif 2*np.pi/8<=A[x,y]<2*2*np.pi/8:\n",
        "          bins[1]+=M[x,y]\n",
        "\n",
        "        elif 2*2*np.pi/8<=A[x,y]<2*3*np.pi/8:\n",
        "          bins[2]+=M[x,y]\n",
        "\n",
        "        elif 2*3*np.pi/8<=A[x,y]<2*3*np.pi/8:\n",
        "          bins[3]+=M[x,y]\n",
        "\n",
        "        elif 2*4*np.pi/8<=A[x,y]<2*5*np.pi/8:\n",
        "          bins[4]+=M[x,y]\n",
        "\n",
        "        elif 2*5*np.pi/8<=A[x,y]<2*6*np.pi/8:\n",
        "          bins[5]+=M[x,y]\n",
        "\n",
        "        elif 2*6*np.pi/8<=A[x,y]<2*7*np.pi/8:\n",
        "          bins[6]+=M[x,y]\n",
        "\n",
        "        elif 2*7*np.pi/8<=A[x,y]<2*8*np.pi/8:\n",
        "          bins[7]+=M[x,y]\n",
        "\n",
        "    feature[div*8:(div+1)*8]=bins\n",
        "\n",
        "  X_featured[i,:]=feature"
      ],
      "execution_count": null,
      "outputs": []
    },
    {
      "cell_type": "code",
      "metadata": {
        "id": "zuQA7H9ifBqx"
      },
      "source": [
        "# 20 iterations\n",
        "k=10\n",
        "Centroids_F= KMeanizer(X_featured,k,iterations=20)\n",
        "\n",
        "y_label_F=np.zeros(X.shape[0])\n",
        "\n",
        "dis_dum=np.zeros(k)\n",
        "for i in range(X.shape[0]):\n",
        "  for kth in range(k):\n",
        "    dis_dum[kth]=LA.norm(X_featured[i,:]-Centroids_F[kth])\n",
        "  y_label_F[i]=np.argmin(dis_dum)  "
      ],
      "execution_count": null,
      "outputs": []
    },
    {
      "cell_type": "code",
      "metadata": {
        "colab": {
          "base_uri": "https://localhost:8080/",
          "height": 111
        },
        "id": "fwptu-QDfHH0",
        "outputId": "a09d16a6-d628-41c4-d535-811b895ae726"
      },
      "source": [
        "fig = plt.figure(figsize=[10, 2])\n",
        "ax = []\n",
        "for i in range(10):  \n",
        "  ax.append(fig.add_subplot(1,10,i+1))\n",
        "  ax[i].imshow(X[i,:].reshape(28,28),cmap=plt.get_cmap('gray'))\n",
        "  ax[i].title.set_text(y_label_F[i])\n",
        "\n",
        "plt.show()"
      ],
      "execution_count": null,
      "outputs": [
        {
          "output_type": "display_data",
          "data": {
            "image/png": "[encoded data removed]",
            "text/plain": [
              "<Figure size 720x144 with 10 Axes>"
            ]
          },
          "metadata": {
            "tags": [],
            "needs_background": "light"
          }
        }
      ]
    },
    {
      "cell_type": "code",
      "metadata": {
        "colab": {
          "base_uri": "https://localhost:8080/"
        },
        "id": "1bVsgsV-fK7Z",
        "outputId": "04d80041-83e5-49a6-a369-de31701e2f87"
      },
      "source": [
        "# Documentation of acccuracy\n",
        "\n",
        "#scoring criteria:\n",
        "# if two same labeled figures get different cluster labels, then error_1=1, else, error_1=0\n",
        "# if two different labeled figures get different cluster labels, then error_2=0, else, error_2=1\n",
        "# total error percentage would be (sum of normalized error_1 and error_2) \n",
        "# Accuracy would be compliment of total error\n",
        "\n",
        "\n",
        "error_1=[]\n",
        "error_2=[]\n",
        "for i in range(X.shape[0]):\n",
        "  for j in range(10):\n",
        "    if (i!=j):\n",
        "      if (Y[i]!=Y[j]):\n",
        "        if (y_label_F[i]!=y_label_F[j]):\n",
        "          error_2.append(0)\n",
        "        else:\n",
        "          error_2.append(1)\n",
        "      elif (Y[i]==Y[j]):\n",
        "        if (y_label_F[i]==y_label_F[j]):\n",
        "          error_1.append(0)\n",
        "        else:\n",
        "          error_1.append(1)\n",
        "\n",
        "\n",
        "total_error=(sum(error_1)/len(error_1)+sum(error_2)/len(error_2))\n",
        "\n",
        "\n",
        "print(\"K_means accuracy:\")\n",
        "print(1-total_error)"
      ],
      "execution_count": null,
      "outputs": [
        {
          "output_type": "stream",
          "text": [
            "K_means accuracy:\n",
            "0.4213364390238066\n"
          ],
          "name": "stdout"
        }
      ]
    }
  ]
}