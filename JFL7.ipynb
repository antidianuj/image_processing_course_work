{
  "nbformat": 4,
  "nbformat_minor": 0,
  "metadata": {
    "colab": {
      "name": "JFL7.ipynb",
      "provenance": [],
      "collapsed_sections": []
    },
    "kernelspec": {
      "display_name": "Python 3",
      "name": "python3"
    },
    "language_info": {
      "name": "python"
    }
  },
  "cells": [
    {
      "cell_type": "markdown",
      "metadata": {
        "id": "ignTrjTN-ny8"
      },
      "source": [
        "# Junaid Iqbal Khan\n",
        "# 2021317105"
      ]
    },
    {
      "cell_type": "code",
      "metadata": {
        "id": "_R_g2Wnv-vyT"
      },
      "source": [
        "import math\n",
        "import cv2\n",
        "import random \n",
        "import matplotlib.pyplot as plt\n",
        "import numpy as np\n"
      ],
      "execution_count": null,
      "outputs": []
    },
    {
      "cell_type": "markdown",
      "metadata": {
        "id": "VqHWAwoYCiYs"
      },
      "source": [
        "**Question#01**"
      ]
    },
    {
      "cell_type": "markdown",
      "metadata": {
        "id": "NDcvfx79_cNh"
      },
      "source": [
        "MNIST"
      ]
    },
    {
      "cell_type": "code",
      "metadata": {
        "colab": {
          "base_uri": "https://localhost:8080/",
          "height": 414
        },
        "id": "QoqD7Kpv_C65",
        "outputId": "a7b24780-771e-425d-dd49-1077eaf092f6"
      },
      "source": [
        "from keras.datasets import mnist\n",
        "\n",
        "#download mnist data and split into train and test sets\n",
        "(X_train, y_train), (X_test, y_test) = mnist.load_data()\n",
        "\n",
        "\n",
        "from keras.utils import to_categorical\n",
        "#one-hot encode target column inorder to induce classification probabilities in learning setup\n",
        "y_train = to_categorical(y_train)\n",
        "y_test = to_categorical(y_test)\n",
        "\n",
        "\n",
        "for i in range(9):\n",
        "  plt.subplot(330+1+i)\n",
        "  plt.imshow(X_train[i],cmap=plt.get_cmap('gray'))\n",
        "  plt.show()\n",
        "\n",
        "\n"
      ],
      "execution_count": null,
      "outputs": [
        {
          "output_type": "stream",
          "text": [
            "Downloading data from https://storage.googleapis.com/tensorflow/tf-keras-datasets/mnist.npz\n",
            "11493376/11490434 [==============================] - 0s 0us/step\n",
            "11501568/11490434 [==============================] - 0s 0us/step\n"
          ],
          "name": "stdout"
        },
        {
          "output_type": "error",
          "ename": "ImportError",
          "evalue": "ignored",
          "traceback": [
            "\u001b[0;31m---------------------------------------------------------------------------\u001b[0m",
            "\u001b[0;31mImportError\u001b[0m                               Traceback (most recent call last)",
            "\u001b[0;32m<ipython-input-1-8e65f66b459d>\u001b[0m in \u001b[0;36m<module>\u001b[0;34m()\u001b[0m\n\u001b[1;32m      5\u001b[0m \u001b[0;34m\u001b[0m\u001b[0m\n\u001b[1;32m      6\u001b[0m \u001b[0;34m\u001b[0m\u001b[0m\n\u001b[0;32m----> 7\u001b[0;31m \u001b[0;32mfrom\u001b[0m \u001b[0mkeras\u001b[0m\u001b[0;34m.\u001b[0m\u001b[0mutils\u001b[0m \u001b[0;32mimport\u001b[0m \u001b[0mto_categorical\u001b[0m\u001b[0;34m\u001b[0m\u001b[0;34m\u001b[0m\u001b[0m\n\u001b[0m\u001b[1;32m      8\u001b[0m \u001b[0;31m#one-hot encode target column inorder to induce classification probabilities in learning setup\u001b[0m\u001b[0;34m\u001b[0m\u001b[0;34m\u001b[0m\u001b[0;34m\u001b[0m\u001b[0m\n\u001b[1;32m      9\u001b[0m \u001b[0my_train\u001b[0m \u001b[0;34m=\u001b[0m \u001b[0mto_categorical\u001b[0m\u001b[0;34m(\u001b[0m\u001b[0my_train\u001b[0m\u001b[0;34m)\u001b[0m\u001b[0;34m\u001b[0m\u001b[0;34m\u001b[0m\u001b[0m\n",
            "\u001b[0;31mImportError\u001b[0m: cannot import name 'to_categorical' from 'keras.utils' (/usr/local/lib/python3.7/dist-packages/keras/utils/__init__.py)",
            "",
            "\u001b[0;31m---------------------------------------------------------------------------\u001b[0;32m\nNOTE: If your import is failing due to a missing package, you can\nmanually install dependencies using either !pip or !apt.\n\nTo view examples of installing some common dependencies, click the\n\"Open Examples\" button below.\n\u001b[0;31m---------------------------------------------------------------------------\u001b[0m\n"
          ]
        }
      ]
    },
    {
      "cell_type": "code",
      "metadata": {
        "colab": {
          "base_uri": "https://localhost:8080/"
        },
        "id": "S1xlMlcKhnmq",
        "outputId": "21f8a82d-18cb-4f24-d9fb-3b0287f94afd"
      },
      "source": [
        "X_train.shape"
      ],
      "execution_count": null,
      "outputs": [
        {
          "output_type": "execute_result",
          "data": {
            "text/plain": [
              "(60000, 28, 28)"
            ]
          },
          "metadata": {
            "tags": []
          },
          "execution_count": 73
        }
      ]
    },
    {
      "cell_type": "markdown",
      "metadata": {
        "id": "kwBjxM7XCfNq"
      },
      "source": [
        "IRIS"
      ]
    },
    {
      "cell_type": "code",
      "metadata": {
        "id": "MvhRpMi-_pGL"
      },
      "source": [
        "from sklearn.datasets import load_iris\n",
        "from sklearn.model_selection import train_test_split\n",
        "\n",
        "iris = load_iris()\n",
        "X = iris['data']\n",
        "y = iris['target']\n",
        "\n",
        "\n",
        "from keras.utils import to_categorical\n",
        "#one-hot encode target column inorder to induce classification probabilities in learning setup\n",
        "y = to_categorical(y)\n",
        "\n",
        "\n",
        "# # Split the data set into training and testing\n",
        "X_train, X_test, Y_train, Y_test = train_test_split(\n",
        "    X, y)\n",
        "\n",
        "x_min, x_max = X[:, 0].min() - .5, X[:, 0].max() + .5\n",
        "y_min, y_max = X[:, 1].min() - .5, X[:, 1].max() + .5\n"
      ],
      "execution_count": null,
      "outputs": []
    },
    {
      "cell_type": "code",
      "metadata": {
        "colab": {
          "base_uri": "https://localhost:8080/",
          "height": 388
        },
        "id": "faRkyU7pCxLF",
        "outputId": "9c253ebe-e9c6-4707-ce20-e94c36f29b30"
      },
      "source": [
        "\n",
        "plt.figure(2, figsize=(8, 6))\n",
        "plt.clf()\n",
        "\n",
        "# Plot the training points\n",
        "plt.scatter(X[:, 0], X[:, 1], c=y, cmap=plt.cm.Set1,\n",
        "            edgecolor='k')\n",
        "plt.xlabel('Sepal length')\n",
        "plt.ylabel('Sepal width')\n",
        "\n",
        "plt.xlim(x_min, x_max)\n",
        "plt.ylim(y_min, y_max)\n",
        "plt.xticks(())\n",
        "plt.yticks(())"
      ],
      "execution_count": null,
      "outputs": [
        {
          "output_type": "execute_result",
          "data": {
            "text/plain": [
              "([], <a list of 0 Text major ticklabel objects>)"
            ]
          },
          "metadata": {
            "tags": []
          },
          "execution_count": 10
        },
        {
          "output_type": "display_data",
          "data": {
            "image/png": "[encoded data removed]",
            "text/plain": [
              "<Figure size 576x432 with 1 Axes>"
            ]
          },
          "metadata": {
            "tags": []
          }
        }
      ]
    },
    {
      "cell_type": "markdown",
      "metadata": {
        "id": "lfE-pT0PCgsI"
      },
      "source": [
        "**Question#02**"
      ]
    },
    {
      "cell_type": "markdown",
      "metadata": {
        "id": "OsJin4inMj9v"
      },
      "source": [
        "Defining SLP"
      ]
    },
    {
      "cell_type": "code",
      "metadata": {
        "id": "j1Jpm7IyCpG3"
      },
      "source": [
        "from sklearn.metrics import accuracy_score, mean_squared_error\n",
        "class SLP_sigmoidal:\n",
        "\n",
        "  #intialization\n",
        "  def __init__(self):\n",
        "    self.w = None\n",
        "    self.b = None\n",
        "\n",
        "  #feedforward\n",
        "  def perceptron(self, x):\n",
        "    return np.dot(x, self.w.T) + self.b\n",
        "\n",
        "  def sigmoid(self, x):\n",
        "    return 1/(1 + np.exp(-x))\n",
        "\n",
        "\n",
        "  #backward\n",
        "  def grad_w_mse(self, x, y):\n",
        "    y_pred = self.sigmoid(self.perceptron(x))\n",
        "    return (y_pred - y) * y_pred * (1 - y_pred)*x\n",
        "\n",
        "\n",
        "  def grad_b_mse(self, x, y):\n",
        "    y_pred = self.sigmoid(self.perceptron(x))\n",
        "    return (y_pred - y) * y_pred * (1 - y_pred)\n",
        "  \n",
        " \n",
        "  #model fitting\n",
        "  def fit(self, X, Y, epochs=5, learning_rate=1, initialise=True, display_loss=False):\n",
        "    \n",
        "    # initialise w, b\n",
        "    if initialise:\n",
        "      self.w = np.random.randn(1, X.shape[1])\n",
        "      self.b = 0\n",
        "      \n",
        "    if display_loss:\n",
        "      loss = []\n",
        "    \n",
        "    for i in range(epochs):\n",
        "      dw = 0\n",
        "      db = 0\n",
        "      for x, y in zip(X, Y):\n",
        "        dw += self.grad_w_mse(x, y)\n",
        "        db += self.grad_b_mse(x, y) \n",
        "          \n",
        "      m = X.shape[1]  \n",
        "      self.w -= learning_rate * dw/m\n",
        "      self.b -= learning_rate * db/m\n",
        "      \n",
        "      if display_loss:\n",
        "        Y_pred = self.sigmoid(self.perceptron(X))\n",
        "        loss.append(mean_squared_error(Y, Y_pred))\n",
        "    \n",
        "    if display_loss:\n",
        "      plt.plot(loss)\n",
        "      plt.xlabel('Epochs')\n",
        "      plt.ylabel('Mean Squared Error')\n",
        "      plt.show()\n",
        "\n",
        "  #prediction action:\n",
        "  \n",
        "  def predict(self, X):\n",
        "    Y_pred = []\n",
        "    for x in X:\n",
        "      y_pred = self.sigmoid(self.perceptron(x))\n",
        "      Y_pred.append(y_pred)\n",
        "    return np.array(Y_pred)"
      ],
      "execution_count": null,
      "outputs": []
    },
    {
      "cell_type": "markdown",
      "metadata": {
        "id": "JJmKkVYPMvpy"
      },
      "source": [
        "Data Preprocessing with focus on Setosa classification"
      ]
    },
    {
      "cell_type": "code",
      "metadata": {
        "colab": {
          "base_uri": "https://localhost:8080/"
        },
        "id": "WVgRBBeLM9dS",
        "outputId": "f3635a32-2366-4de3-8d89-cd36477b7ac1"
      },
      "source": [
        "names = iris['target_names']\n",
        "print(names)"
      ],
      "execution_count": null,
      "outputs": [
        {
          "output_type": "stream",
          "text": [
            "['setosa' 'versicolor' 'virginica']\n"
          ],
          "name": "stdout"
        }
      ]
    },
    {
      "cell_type": "code",
      "metadata": {
        "id": "A2Q9c0PRGURT"
      },
      "source": [
        "y_setosa=y[:,0]\n",
        "from sklearn.preprocessing import StandardScaler\n",
        "\n",
        "# Scale data to have mean 0 and variance 1 which has merit in convergence of the neural network\n",
        "scaler = StandardScaler()\n",
        "X_scaled = scaler.fit_transform(X)\n",
        "\n",
        "\n",
        "# # Split the data set into training and testing\n",
        "X_train, X_test, Y_train, Y_test = train_test_split(\n",
        "    X_scaled, y_setosa)\n"
      ],
      "execution_count": null,
      "outputs": []
    },
    {
      "cell_type": "code",
      "metadata": {
        "colab": {
          "base_uri": "https://localhost:8080/",
          "height": 279
        },
        "id": "aGbipUfyFGPf",
        "outputId": "316fbe61-e2fa-49db-f24a-968b500f1e21"
      },
      "source": [
        "\n",
        "#create a class object\n",
        "setosa_classifier = SLP_sigmoidal()\n",
        "\n",
        "#train the model\n",
        "setosa_classifier.fit(X_train, Y_train, epochs=1000, learning_rate=0.5, display_loss=True)"
      ],
      "execution_count": null,
      "outputs": [
        {
          "output_type": "display_data",
          "data": {
            "image/png": "[encoded data removed]",
            "text/plain": [
              "<Figure size 432x288 with 1 Axes>"
            ]
          },
          "metadata": {
            "tags": []
          }
        }
      ]
    },
    {
      "cell_type": "code",
      "metadata": {
        "colab": {
          "base_uri": "https://localhost:8080/",
          "height": 279
        },
        "id": "sLdq3HRQF0UW",
        "outputId": "08925088-c6f8-4886-f3bc-a44ce10ac55a"
      },
      "source": [
        "Y_pred = setosa_classifier.predict(X_test)\n",
        "sample=np.arange(Y_pred.shape[0])\n",
        "plt.plot(sample,Y_test, label=\"Reference\")\n",
        "plt.plot(sample,Y_pred,label=\"Predictions\")\n",
        "plt.legend(loc=\"upper left\")\n",
        "plt.xlabel('Test Samples')\n",
        "plt.ylabel('Classification Probability')\n",
        "plt.show()\n",
        "\n",
        "\n"
      ],
      "execution_count": null,
      "outputs": [
        {
          "output_type": "display_data",
          "data": {
            "image/png": "[encoded data removed]",
            "text/plain": [
              "<Figure size 432x288 with 1 Axes>"
            ]
          },
          "metadata": {
            "tags": []
          }
        }
      ]
    },
    {
      "cell_type": "markdown",
      "metadata": {
        "id": "W7DWMbN7RrXk"
      },
      "source": [
        "**Question#03**"
      ]
    },
    {
      "cell_type": "markdown",
      "metadata": {
        "id": "De1nPAphNRJq"
      },
      "source": [
        "Data Preprocessing"
      ]
    },
    {
      "cell_type": "code",
      "metadata": {
        "id": "EBdpFQ9hYt6y"
      },
      "source": [
        "from keras.datasets import mnist\n",
        "\n",
        "#download mnist data and split into train and test sets\n",
        "(X_train, y_train), (X_test, y_test) = mnist.load_data()\n",
        "\n",
        "\n",
        "from keras.utils import to_categorical\n",
        "#one-hot encode target column inorder to induce classification probabilities in learning setup\n",
        "y_train = to_categorical(y_train)\n",
        "y_test = to_categorical(y_test)\n",
        "\n",
        "\n",
        "a,b,c=X_train.shape\n",
        "X_train_new=np.zeros((a,b*c))\n",
        "for i in range(a):\n",
        "  X_train_new[i,:]=X_train[i,:,:].flatten()\n",
        "\n",
        "A,B,C=X_test.shape\n",
        "X_test_new=np.zeros((A,B*C))\n",
        "for i in range(A):\n",
        "  X_test_new[i,:]=X_test[i,:,:].flatten()\n",
        "  \n",
        "\n"
      ],
      "execution_count": null,
      "outputs": []
    },
    {
      "cell_type": "markdown",
      "metadata": {
        "id": "-Ip6OXI_NUcg"
      },
      "source": [
        "Definition of MLP"
      ]
    },
    {
      "cell_type": "code",
      "metadata": {
        "id": "S0leUjoaXaKM"
      },
      "source": [
        "\n",
        "from numpy import exp\n",
        "\n",
        "\n",
        "\n",
        "def sigmoid(x):\n",
        "    return 1 / (1 + np.exp(-x))\n",
        "\n",
        "def softmax(x):\n",
        "\te = exp(x)\n",
        "\treturn e / e.sum()\n",
        " \n",
        "\n",
        "\n",
        "class MLP_sigmoidal_softmax():\n",
        "    def __init__(self, n_hidden, n_iterations=3000, learning_rate=0.01):\n",
        "        self.n_hidden = n_hidden\n",
        "        self.n_iterations = n_iterations\n",
        "        self.learning_rate = learning_rate\n",
        "\n",
        "    def _initialize_weights(self, X, y):\n",
        "        n_samples, n_features = X.shape\n",
        "        _, n_outputs = y.shape\n",
        "        # Hidden layer\n",
        "        limit   = 1 / (math.sqrt(n_features)+0.01)\n",
        "        self.W  = np.random.uniform(-limit, limit, (n_features, self.n_hidden))\n",
        "        self.w0 = np.zeros((1, self.n_hidden))\n",
        "        # Output layer\n",
        "        limit   = 1 / (math.sqrt(self.n_hidden)+0.01)\n",
        "        self.V  = np.random.uniform(-limit, limit, (self.n_hidden, n_outputs))\n",
        "        self.v0 = np.zeros((1, n_outputs))\n",
        "\n",
        "    def fit(self, X, y):\n",
        "\n",
        "        self._initialize_weights(X, y)\n",
        "        loss=[]\n",
        "        for i in range(self.n_iterations):\n",
        "\n",
        "## feedforward:\n",
        "            # HIDDEN LAYER\n",
        "            hidden_input = X.dot(self.W) + self.w0\n",
        "            hidden_output = sigmoid(hidden_input)\n",
        "\n",
        "\n",
        "            # OUTPUT LAYER\n",
        "            output_layer_input = hidden_output.dot(self.V) + self.v0\n",
        "            y_pred = softmax(output_layer_input)\n",
        "\n",
        "#backward:\n",
        "            loss.append(mean_squared_error(y,y_pred))\n",
        "            # OUTPUT LAYER\n",
        "            # Grad. w.r.t input of output layer\n",
        "            grad_wrt_out_l_input = (y-y_pred) * y_pred * (1 - y_pred)*output_layer_input\n",
        "            grad_v = hidden_output.T.dot(grad_wrt_out_l_input)\n",
        "            grad_v0 = np.sum(grad_wrt_out_l_input, axis=0, keepdims=True)\n",
        "\n",
        "            # HIDDEN LAYER\n",
        " \n",
        "            \n",
        "            grad_wrt_hidden_l_input = grad_wrt_out_l_input.dot(self.V.T) * sigmoid(hidden_input)\n",
        "            grad_w = X.T.dot(grad_wrt_hidden_l_input)\n",
        "            grad_w0 = np.sum(grad_wrt_hidden_l_input, axis=0, keepdims=True)\n",
        "\n",
        "            #corresponding learning\n",
        "            self.V  -= self.learning_rate * grad_v\n",
        "            self.v0 -= self.learning_rate * grad_v0\n",
        "            self.W  -= self.learning_rate * grad_w\n",
        "            self.w0 -= self.learning_rate * grad_w0\n",
        "\n",
        "        plt.plot(loss)\n",
        "        plt.xlabel('Epochs')\n",
        "        plt.ylabel('Mean Squared Error')\n",
        "        plt.show()\n",
        "\n",
        "#prediction action:\n",
        "\n",
        "    def predict(self, X):\n",
        "        # Forward pass:\n",
        "        hidden_input = X.dot(self.W) + self.w0\n",
        "        hidden_output = sigmoid(hidden_input)\n",
        "        output_layer_input = hidden_output.dot(self.V) + self.v0\n",
        "        y_pred = softmax(output_layer_input)\n",
        "        return y_pred\n"
      ],
      "execution_count": null,
      "outputs": []
    },
    {
      "cell_type": "markdown",
      "metadata": {
        "id": "-RspmQ3jNcLf"
      },
      "source": [
        "Training and testing the MLP"
      ]
    },
    {
      "cell_type": "code",
      "metadata": {
        "colab": {
          "base_uri": "https://localhost:8080/",
          "height": 324
        },
        "id": "o37PQ2_uYIkU",
        "outputId": "b2203180-781a-48e2-f3fa-48c328cb4b1c"
      },
      "source": [
        "model = MLP_sigmoidal_softmax(n_hidden=10,\n",
        "        n_iterations=1000,\n",
        "        learning_rate=0.01)\n",
        "\n",
        "model.fit(X_train_new, y_train)\n",
        "y_pred = np.argmax(model.predict(X_test_new[1]))\n",
        "y_test = np.argmax(y_test[1])\n",
        "\n",
        "print(y_pred)\n",
        "print(y_test)"
      ],
      "execution_count": null,
      "outputs": [
        {
          "output_type": "display_data",
          "data": {
            "image/png": "[encoded data removed]",
            "text/plain": [
              "<Figure size 432x288 with 1 Axes>"
            ]
          },
          "metadata": {
            "tags": [],
            "needs_background": "light"
          }
        },
        {
          "output_type": "stream",
          "text": [
            "2\n",
            "2\n"
          ],
          "name": "stdout"
        }
      ]
    }
  ]
}